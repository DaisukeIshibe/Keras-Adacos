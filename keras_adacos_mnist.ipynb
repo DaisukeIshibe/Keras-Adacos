{
  "nbformat": 4,
  "nbformat_minor": 0,
  "metadata": {
    "colab": {
      "name": "keras_adacos_mnist.ipynb",
      "provenance": [],
      "collapsed_sections": []
    },
    "kernelspec": {
      "name": "python3",
      "display_name": "Python 3"
    },
    "accelerator": "GPU"
  },
  "cells": [
    {
      "cell_type": "markdown",
      "metadata": {
        "id": "2foskNAEuyuZ",
        "colab_type": "text"
      },
      "source": [
        "#Keras-AdaCos\n",
        "---\n",
        "## References\n",
        "* Original paper: [AdaCos: Adaptively Scaling Cosine Logits for Effectively Learning Deep Face Represent    ations](https://arxiv.org/abs/1905.00292)\n",
        "* ArcFace in Keras: https://github.com/4uiiurz1/keras-arcface\n",
        "* AdaCos in TensorFlow: https://github.com/taekwan-lee/adacos-tensorflow\n",
        "---\n"
      ]
    },
    {
      "cell_type": "code",
      "metadata": {
        "id": "7FigtRgChbxw",
        "colab_type": "code",
        "colab": {}
      },
      "source": [
        "import numpy as np\n",
        "\n",
        "import keras, math, os\n",
        "from keras.layers import Layer, Input, Dense, Flatten, BatchNormalization, Conv2D, Activation, MaxPooling2D, Dropout\n",
        "from keras.models import Model\n",
        "from keras import regularizers\n",
        "from keras.datasets import mnist\n",
        "from keras.optimizers import Adam\n",
        "from keras.preprocessing.image import ImageDataGenerator\n",
        "from keras.callbacks import Callback, ModelCheckpoint, TerminateOnNaN\n",
        "from keras import backend as K\n",
        "import tensorflow as tf"
      ],
      "execution_count": 0,
      "outputs": []
    },
    {
      "cell_type": "code",
      "metadata": {
        "id": "5oZsgUyjiezr",
        "colab_type": "code",
        "colab": {}
      },
      "source": [
        "class AdaCos(Layer):\n",
        "    def __init__(self, n_classes=10, m=0.50, regularizer=None, **kwargs):\n",
        "        super(AdaCos, self).__init__(**kwargs)\n",
        "        self.n_classes = n_classes\n",
        "        self.s = math.sqrt(2)*math.log(n_classes-1)\n",
        "        self.m = m\n",
        "        self.regularizer = regularizers.get(regularizer)\n",
        "\n",
        "    def build(self, input_shape):\n",
        "        super(AdaCos, self).build(input_shape[0])\n",
        "        self.W = self.add_weight(name='W',\n",
        "                                shape=(input_shape[0][-1], self.n_classes),\n",
        "                                initializer='glorot_uniform',\n",
        "                                trainable=True,\n",
        "                                regularizer=self.regularizer)\n",
        "\n",
        "    def call(self, inputs):\n",
        "        x, y = inputs\n",
        "        # normalize feature\n",
        "        x = tf.nn.l2_normalize(x, axis=1)\n",
        "        # normalize weights\n",
        "        W = tf.nn.l2_normalize(self.W, axis=0)\n",
        "        # dot product\n",
        "        logits = x @ W\n",
        "        # add margin\n",
        "        # clip logits to prevent zero division when backward\n",
        "        theta = tf.acos(K.clip(logits, -1.0 + K.epsilon(), 1.0 - K.epsilon()))\n",
        "\n",
        "        B_avg = tf.where(y < 1, tf.exp(self.s*logits), tf.zeros_like(logits))\n",
        "        B_avg = tf.reduce_mean(tf.reduce_sum(B_avg, axis=1), name='B_avg')\n",
        "        theta_class = tf.gather(theta, tf.cast(y, tf.int32), name='theta_class')\n",
        "        theta_med = tf.contrib.distributions.percentile(theta_class, q=50)\n",
        "\n",
        "        with tf.control_dependencies([theta_med, B_avg]):\n",
        "            self.s = tf.log(B_avg) / tf.cos(tf.minimum(math.pi/4, theta_med))\n",
        "            logits = self.s * logits \n",
        "            out = tf.nn.softmax(logits)\n",
        "        return out\n",
        "\n",
        "    def compute_output_shape(self, input_shape):\n",
        "        return (None, self.n_classes)"
      ],
      "execution_count": 0,
      "outputs": []
    },
    {
      "cell_type": "code",
      "metadata": {
        "id": "VCyI2ibhjQHq",
        "colab_type": "code",
        "colab": {}
      },
      "source": [
        "weight_decay = 1e-1\n",
        "def vgg_block(x, filters, layers):\n",
        "    for _ in range(layers):\n",
        "        x = Conv2D(filters, (3, 3), padding='same', kernel_initializer='he_normal',\n",
        "                    kernel_regularizer=regularizers.l2(weight_decay))(x)\n",
        "        x = BatchNormalization()(x)\n",
        "        x = Activation('relu')(x)\n",
        "\n",
        "    return x"
      ],
      "execution_count": 0,
      "outputs": []
    },
    {
      "cell_type": "code",
      "metadata": {
        "id": "ShKrzxpqjR4n",
        "colab_type": "code",
        "colab": {}
      },
      "source": [
        "def vgg8_adacos(input_size=None, num_class=10, num_features=3):\n",
        "    input = Input(shape=input_size)\n",
        "    y = Input(shape=(num_class,))\n",
        "\n",
        "    x = vgg_block(input, 16, 2)\n",
        "    x = MaxPooling2D(pool_size=(2, 2))(x)\n",
        "    x = vgg_block(x, 32, 2)\n",
        "    x = MaxPooling2D(pool_size=(2, 2))(x)\n",
        "    x = vgg_block(x, 64, 2)\n",
        "    x = MaxPooling2D(pool_size=(2, 2))(x)\n",
        "\n",
        "    x = BatchNormalization()(x)\n",
        "    x = Dropout(0.5)(x)\n",
        "    x = Flatten()(x)\n",
        "    x = Dense(num_features, kernel_initializer='he_normal',\n",
        "                kernel_regularizer=regularizers.l2(weight_decay))(x)\n",
        "    x = BatchNormalization()(x)\n",
        "    output = AdaCos(num_class, regularizer=regularizers.l2(weight_decay))([x, y])\n",
        "\n",
        "    return Model([input, y], output)"
      ],
      "execution_count": 0,
      "outputs": []
    },
    {
      "cell_type": "code",
      "metadata": {
        "id": "FX1cYpttjUpw",
        "colab_type": "code",
        "colab": {}
      },
      "source": [
        "(X, y), (X_test, y_test) = mnist.load_data()\n",
        "y_test_org = y_test.copy()\n",
        "\n",
        "X = X[:, :, :, np.newaxis].astype('float32') / 255\n",
        "X_test = X_test[:, :, :, np.newaxis].astype('float32') / 255\n",
        "\n",
        "y = keras.utils.to_categorical(y, 10)\n",
        "y_test = keras.utils.to_categorical(y_test, 10)"
      ],
      "execution_count": 0,
      "outputs": []
    },
    {
      "cell_type": "code",
      "metadata": {
        "id": "mUmFfzGRjnWy",
        "colab_type": "code",
        "colab": {}
      },
      "source": [
        "optimizer = Adam(lr=1e-3)"
      ],
      "execution_count": 0,
      "outputs": []
    },
    {
      "cell_type": "code",
      "metadata": {
        "id": "-_W-LE9NlDMU",
        "colab_type": "code",
        "colab": {}
      },
      "source": [
        "model = vgg8_adacos(input_size=(28,28,1), num_class=10, num_features=3)"
      ],
      "execution_count": 0,
      "outputs": []
    },
    {
      "cell_type": "code",
      "metadata": {
        "id": "Oiz4fUyGlF7u",
        "colab_type": "code",
        "colab": {}
      },
      "source": [
        "model.compile(loss='categorical_crossentropy', optimizer=optimizer, metrics=['accuracy'])"
      ],
      "execution_count": 0,
      "outputs": []
    },
    {
      "cell_type": "code",
      "metadata": {
        "id": "w1IZIUVcmaGi",
        "colab_type": "code",
        "colab": {}
      },
      "source": [
        "datagen = ImageDataGenerator(\n",
        "        # set input mean to 0 over the dataset\n",
        "        featurewise_center=False,\n",
        "        # set each sample mean to 0\n",
        "        samplewise_center=False,\n",
        "        # divide inputs by std of dataset\n",
        "        featurewise_std_normalization=False,\n",
        "        # divide each input by its std\n",
        "        samplewise_std_normalization=False,\n",
        "        # apply ZCA whitening\n",
        "        zca_whitening=False,\n",
        "        # epsilon for ZCA whitening\n",
        "        zca_epsilon=1e-06,\n",
        "        # randomly rotate images in the range (deg 0 to 180)\n",
        "        rotation_range=180,\n",
        "        # randomly shift images horizontally\n",
        "        width_shift_range=0.,\n",
        "        # randomly shift images vertically\n",
        "        height_shift_range=0.,\n",
        "        # set range for random shear\n",
        "        shear_range=0.,\n",
        "        # set range for random zoom\n",
        "        zoom_range=0.,\n",
        "        # set range for random channel shifts\n",
        "        channel_shift_range=0.,\n",
        "        # set mode for filling points outside the input boundaries\n",
        "        fill_mode='nearest',\n",
        "        # value used for fill_mode = \"constant\"\n",
        "        cval=0.,\n",
        "        # randomly flip images\n",
        "        horizontal_flip=True,\n",
        "        # randomly flip images\n",
        "        vertical_flip=True,\n",
        "        # set rescaling factor (applied before any other transformation)\n",
        "        rescale=None,\n",
        "        # set function that will be applied on each input\n",
        "        preprocessing_function=None,\n",
        "        # image data format, either \"channels_first\" or \"channels_last\"\n",
        "        data_format=None,\n",
        "        # fraction of images reserved for validation (strictly between 0 and 1)\n",
        "        validation_split=0.0)\n",
        "\n",
        "# Compute quantities required for featurewise normalization\n",
        "# (std, mean, and principal components if ZCA whitening is applied).\n",
        "datagen.fit(X)"
      ],
      "execution_count": 0,
      "outputs": []
    },
    {
      "cell_type": "code",
      "metadata": {
        "id": "4vDCp_dJmhFw",
        "colab_type": "code",
        "colab": {}
      },
      "source": [
        "if not os.path.exists('arcface_model'):\n",
        "    os.mkdir('arcface_model')"
      ],
      "execution_count": 0,
      "outputs": []
    },
    {
      "cell_type": "code",
      "metadata": {
        "id": "3eEQ2N1_nAtX",
        "colab_type": "code",
        "colab": {}
      },
      "source": [
        "callbacks = [\n",
        "             ModelCheckpoint(os.path.join('arcface_model','model.hdf5'),\n",
        "                             verbose=1,\n",
        "                             save_best_only=True),\n",
        "             TerminateOnNaN()]"
      ],
      "execution_count": 0,
      "outputs": []
    },
    {
      "cell_type": "code",
      "metadata": {
        "id": "yZLtnii9nNVH",
        "colab_type": "code",
        "colab": {}
      },
      "source": [
        "model.fit([X, y], y, validation_data=([X_test, y_test], y_test), epochs=100, batch_size=256, callbacks=callbacks, verbose=1)"
      ],
      "execution_count": 0,
      "outputs": []
    },
    {
      "cell_type": "code",
      "metadata": {
        "id": "S7H8D9e_mZfx",
        "colab_type": "code",
        "colab": {}
      },
      "source": [
        "model = keras.models.load_model('arcface_model/model.hdf5', custom_objects={'AdaCos': AdaCos})\n",
        "score = model.evaluate([X_test, y_test], y_test, verbose=1)\n",
        "print(\"loss:{}, accuracy:{}\".format(score[0], score[1]))"
      ],
      "execution_count": 0,
      "outputs": []
    },
    {
      "cell_type": "code",
      "metadata": {
        "id": "rb6N-QxPok-q",
        "colab_type": "code",
        "colab": {}
      },
      "source": [
        "model = Model(inputs=model.input[0], outputs=model.layers[-3].output)\n",
        "features = model.predict(X_test, verbose=1)\n",
        "features /= np.linalg.norm(features, axis=1, keepdims=True)"
      ],
      "execution_count": 0,
      "outputs": []
    },
    {
      "cell_type": "code",
      "metadata": {
        "id": "ZyCtfRwhoy24",
        "colab_type": "code",
        "colab": {}
      },
      "source": [
        "import matplotlib.pyplot as plt\n",
        "from mpl_toolkits.mplot3d import Axes3D"
      ],
      "execution_count": 0,
      "outputs": []
    },
    {
      "cell_type": "code",
      "metadata": {
        "id": "R3brYJHco_bv",
        "colab_type": "code",
        "colab": {}
      },
      "source": [
        "fig = plt.figure()\n",
        "ax = Axes3D(fig)\n",
        "for c in range(len(np.unique(y_test_org))):\n",
        "    ax.plot(features[y_test_org==c, 0], features[y_test_org==c, 1], features[y_test_org==c, 2], '.', alpha=0.1)\n",
        "plt.title('Features distribution with AdaCos')"
      ],
      "execution_count": 0,
      "outputs": []
    }
  ]
}